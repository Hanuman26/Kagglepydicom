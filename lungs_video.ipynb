{
 "cells": [
  {
   "cell_type": "code",
   "execution_count": 2,
   "metadata": {
    "collapsed": false,
    "scrolled": true
   },
   "outputs": [],
   "source": [
    "import dicom\n",
    "import cv2\n",
    "import os\n",
    "import pandas as pd\n",
    "import numpy as np\n",
    "import glob\n",
    "import pickle\n",
    "import scipy.ndimage\n",
    "from operator import itemgetter\n",
    "from sklearn.metrics import log_loss\n",
    "import matplotlib.pyplot as plt\n",
    "from skimage import measure, morphology\n",
    "from mpl_toolkits.mplot3d.art3d import Poly3DCollection\n",
    "\n",
    "\n",
    "INPUT_FOLDER = '/home/manish/data/kaggleCancer/sample_images/'\n",
    "patients = os.listdir(INPUT_FOLDER)\n",
    "patients.sort()\n",
    "\n",
    "\n",
    "# Load the scans in given folder path\n",
    "def load_scan(path):\n",
    "    slices = [dicom.read_file(path + '/' + s) for s in os.listdir(path)]\n",
    "    slices.sort(key = lambda x: int(x.InstanceNumber))\n",
    "    try:\n",
    "        slice_thickness = np.abs(slices[0].ImagePositionPatient[2] - slices[1].ImagePositionPatient[2])\n",
    "    except:\n",
    "        slice_thickness = np.abs(slices[0].SliceLocation - slices[1].SliceLocation)\n",
    "    for s in slices:\n",
    "        s.SliceThickness = slice_thickness\n",
    "    return slices\n",
    "\n",
    "\n",
    "def get_pixels_hu(scans):\n",
    "    image = np.stack([s.pixel_array for s in scans])\n",
    "    # Convert to int16 (from sometimes int16),\n",
    "    # should be possible as values should always be low enough (<32k)\n",
    "    image = image.astype(np.int16)\n",
    "    # Set outside-of-scan pixels to 0\n",
    "    # The intercept is usually -1024, so air is approximately 0\n",
    "    image[image == -2000] = 0\n",
    "    # Convert to Hounsfield units (HU)\n",
    "    intercept = scans[0].RescaleIntercept\n",
    "    slope = scans[0].RescaleSlope\n",
    "    if slope != 1:\n",
    "        image = slope * image.astype(np.float64)\n",
    "        image = image.astype(np.int16)\n",
    "    image += np.int16(intercept)\n",
    "    return np.array(image, dtype=np.int16)\n",
    "\n",
    "\n",
    "def resample(image, scan, new_spacing=[1, 1, 1]):\n",
    "    # Determine current pixel spacing\n",
    "    spacing = map(float, ([scan[0].SliceThickness] + scan[0].PixelSpacing))\n",
    "    spacing = np.array(list(spacing))\n",
    "    resize_factor = spacing / new_spacing\n",
    "    new_real_shape = image.shape * resize_factor\n",
    "    new_shape = np.round(new_real_shape)\n",
    "    real_resize_factor = new_shape / image.shape\n",
    "    new_spacing = spacing / real_resize_factor\n",
    "    image = scipy.ndimage.interpolation.zoom(image, real_resize_factor)\n",
    "    return image, new_spacing\n",
    "\n",
    "\n",
    "def normalize(image):\n",
    "    MIN_BOUND = -1000.0\n",
    "    MAX_BOUND = 400.0\n",
    "    image = (image - MIN_BOUND) / (MAX_BOUND - MIN_BOUND)\n",
    "    image[image > 1] = 1.\n",
    "    image[image < 0] = 0.\n",
    "    return image"
   ]
  },
  {
   "cell_type": "code",
   "execution_count": 3,
   "metadata": {
    "collapsed": true
   },
   "outputs": [],
   "source": [
    "# Function which creates set of images for each axis\n",
    "def create_set_of_png_for_patient(patient):\n",
    "    needed_shape = (640, 640)\n",
    "    first_patient = load_scan(INPUT_FOLDER + patient)\n",
    "    first_patient_pixels = get_pixels_hu(first_patient)\n",
    "    print('Number of scans: {}'.format(len(first_patient_pixels)))\n",
    "    pix_resampled, spacing = resample(first_patient_pixels, first_patient, [1, 1, 1])\n",
    "    print(\"Shape before resampling:\", first_patient_pixels.shape)\n",
    "    print(\"Shape after resampling:\", pix_resampled.shape)\n",
    "    print(\"X Slices\")\n",
    "    total = 0\n",
    "    image_list = []\n",
    "    for i in range(pix_resampled.shape[0]):\n",
    "        im = pix_resampled[i, :, :]\n",
    "        image_list.append(cv2.resize(255*normalize(im), needed_shape))\n",
    "    print(\"Y Slices\")\n",
    "    for i in range(pix_resampled.shape[1]):\n",
    "        im = pix_resampled[:, i, :]\n",
    "        image_list.append(cv2.resize(255*normalize(im), needed_shape))\n",
    "    print(\"Z Slices\")\n",
    "    for i in range(pix_resampled.shape[2]):\n",
    "        im = pix_resampled[:, :, i]\n",
    "        image_list.append(cv2.resize(255*normalize(im), needed_shape))\n",
    "    return image_list"
   ]
  },
  {
   "cell_type": "code",
   "execution_count": 4,
   "metadata": {
    "collapsed": true
   },
   "outputs": [],
   "source": [
    "def create_video(image_list, out_file):\n",
    "    height, width = image_list[0].shape\n",
    "    fourcc = cv2.VideoWriter_fourcc(*'X264')\n",
    "    # In case X264 doesn't work\n",
    "    # fourcc = cv2.VideoWriter_fourcc(*'XVID')\n",
    "    fps = 30.0\n",
    "    video = cv2.VideoWriter(out_file, fourcc, fps, (width, height), False)\n",
    "    for im in image_list:\n",
    "        video.write(im.astype(np.uint8))\n",
    "    cv2.destroyAllWindows()\n",
    "    video.release()"
   ]
  },
  {
   "cell_type": "code",
   "execution_count": 5,
   "metadata": {
    "collapsed": false
   },
   "outputs": [
    {
     "name": "stdout",
     "output_type": "stream",
     "text": [
      "Create video for 0a099f2549429d29b32f349e95fb2244\n",
      "Number of scans: 128\n",
      "Shape before resampling: (128, 512, 512)\n",
      "Shape after resampling: (320, 347, 347)\n",
      "X Slices\n",
      "Y Slices\n",
      "Z Slices\n"
     ]
    }
   ],
   "source": [
    "if __name__ == '__main__':\n",
    "    p = patients[1]\n",
    "    print('Create video for {}'.format(p))\n",
    "    image_list = create_set_of_png_for_patient(p)\n",
    "    create_video(image_list, \"output.avi\")"
   ]
  },
  {
   "cell_type": "code",
   "execution_count": null,
   "metadata": {
    "collapsed": true
   },
   "outputs": [],
   "source": [
    "JL:KPO- io90 \n",
    "    \n",
    "    \n",
    "    \n",
    "    \n",
    "    \n",
    "    \n",
    "    \n",
    "    \n",
    "    \n",
    "    \n",
    "    \n",
    "    \n",
    "    \n",
    "    \n",
    "    \n",
    "    \n",
    "    \n",
    "    \n",
    "    \n",
    "    \n",
    "    \n",
    "    \n",
    "    \n",
    "    \n",
    "    \n",
    "    "
   ]
  }
 ],
 "metadata": {
  "anaconda-cloud": {},
  "kernelspec": {
   "display_name": "Python [Root]",
   "language": "python",
   "name": "Python [Root]"
  },
  "language_info": {
   "codemirror_mode": {
    "name": "ipython",
    "version": 3
   },
   "file_extension": ".py",
   "mimetype": "text/x-python",
   "name": "python",
   "nbconvert_exporter": "python",
   "pygments_lexer": "ipython3",
   "version": "3.5.2"
  }
 },
 "nbformat": 4,
 "nbformat_minor": 0
}
